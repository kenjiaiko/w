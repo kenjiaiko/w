{
  "nbformat": 4,
  "nbformat_minor": 0,
  "metadata": {
    "colab": {
      "name": "visualize.ipynb",
      "provenance": [],
      "collapsed_sections": []
    },
    "kernelspec": {
      "name": "python3",
      "display_name": "Python 3"
    }
  },
  "cells": [
    {
      "cell_type": "code",
      "metadata": {
        "id": "2xI0VLb5PhvD",
        "colab_type": "code",
        "colab": {}
      },
      "source": [
        "!pip install numpy plotly sklearn"
      ],
      "execution_count": null,
      "outputs": []
    },
    {
      "cell_type": "code",
      "metadata": {
        "id": "kG8JHHkMQN7Z",
        "colab_type": "code",
        "colab": {}
      },
      "source": [
        "# select dataset \"digits\", \"wine\", \"forest\" and \"cancer\"\n",
        "dataset, label, standardscaler = (\"digits\", True, True)"
      ],
      "execution_count": null,
      "outputs": []
    },
    {
      "cell_type": "code",
      "metadata": {
        "id": "xtqo6i7tz1ng",
        "colab_type": "code",
        "colab": {}
      },
      "source": [
        "import numpy as np\n",
        "from plotly.subplots import make_subplots\n",
        "import plotly.graph_objects as go\n",
        "from sklearn import (manifold, datasets, decomposition, ensemble,\n",
        "                     discriminant_analysis, random_projection)\n",
        "from sklearn.svm import SVC\n",
        "from sklearn.model_selection import train_test_split\n",
        "from sklearn.preprocessing import StandardScaler\n",
        "from sklearn.metrics import accuracy_score"
      ],
      "execution_count": null,
      "outputs": []
    },
    {
      "cell_type": "markdown",
      "metadata": {
        "id": "0OUfzR5GfFaK",
        "colab_type": "text"
      },
      "source": [
        "## Datasets"
      ]
    },
    {
      "cell_type": "code",
      "metadata": {
        "id": "CwOu4kdExLV7",
        "colab_type": "code",
        "colab": {}
      },
      "source": [
        "if dataset == \"digits\":\n",
        "  digits = datasets.load_digits(n_class=10)\n",
        "  X = digits.data\n",
        "  y = digits.target"
      ],
      "execution_count": null,
      "outputs": []
    },
    {
      "cell_type": "code",
      "metadata": {
        "id": "tCESAwmNDqaW",
        "colab_type": "code",
        "colab": {}
      },
      "source": [
        "if dataset == \"wine\":\n",
        "  wine = datasets.load_wine()\n",
        "  X = wine.data\n",
        "  y = wine.target"
      ],
      "execution_count": null,
      "outputs": []
    },
    {
      "cell_type": "code",
      "metadata": {
        "id": "klOOd031z6sD",
        "colab_type": "code",
        "colab": {}
      },
      "source": [
        "if dataset == \"forest\":\n",
        "  forest = datasets.fetch_covtype(shuffle=True)\n",
        "  X = forest.data[:1000]\n",
        "  y = forest.target[:1000]"
      ],
      "execution_count": null,
      "outputs": []
    },
    {
      "cell_type": "code",
      "metadata": {
        "id": "0gGM6i7bRdop",
        "colab_type": "code",
        "colab": {}
      },
      "source": [
        "if dataset == \"cancer\":\n",
        "  cancer = datasets.load_breast_cancer()\n",
        "  X = cancer.data\n",
        "  y = cancer.target"
      ],
      "execution_count": null,
      "outputs": []
    },
    {
      "cell_type": "code",
      "metadata": {
        "id": "LE2mTg7JUIGT",
        "colab_type": "code",
        "colab": {}
      },
      "source": [
        "def ss(X):\n",
        "  sc = StandardScaler()\n",
        "  sc.fit(X)\n",
        "  return sc.transform(X)"
      ],
      "execution_count": null,
      "outputs": []
    },
    {
      "cell_type": "code",
      "metadata": {
        "id": "VNtOWjrGUfNE",
        "colab_type": "code",
        "colab": {}
      },
      "source": [
        "if standardscaler == True:\n",
        "  X = ss(X)"
      ],
      "execution_count": null,
      "outputs": []
    },
    {
      "cell_type": "code",
      "metadata": {
        "id": "foYwxHpIP-nb",
        "colab_type": "code",
        "colab": {}
      },
      "source": [
        "if label == False:\n",
        "  y = None"
      ],
      "execution_count": null,
      "outputs": []
    },
    {
      "cell_type": "code",
      "metadata": {
        "id": "VTzudBALfZWg",
        "colab_type": "code",
        "colab": {}
      },
      "source": [
        "X[0]"
      ],
      "execution_count": null,
      "outputs": []
    },
    {
      "cell_type": "markdown",
      "metadata": {
        "id": "TEMd1d2Ze84b",
        "colab_type": "text"
      },
      "source": [
        "## Visualize (2D, 3D)"
      ]
    },
    {
      "cell_type": "code",
      "metadata": {
        "id": "ZKIbJlRiX4-x",
        "colab_type": "code",
        "colab": {}
      },
      "source": [
        "def _plot(_2d, _3d, sz=600, title=\"\", target=None):\n",
        "  fig = make_subplots(rows=1, cols=2, \n",
        "                      specs=[[{\"type\": \"xy\"}, {\"type\": \"scene\"}]])\n",
        "  if type(target) != type(None):\n",
        "    d, _text = {}, []\n",
        "    for i, t in enumerate(set(target)):\n",
        "      d.setdefault(t, i)\n",
        "    for t in target:\n",
        "      _text.append(int(d[t]))\n",
        "    fig.add_trace(\n",
        "      go.Scatter(x=_2d[:, 0], y=_2d[:, 1], \n",
        "                mode='text', marker=dict(size=5), text=_text), \n",
        "      row=1, col=1)\n",
        "    fig.add_trace(\n",
        "      go.Scatter3d(x=_3d[:, 0], y=_3d[:, 1], z=_3d[:, 2], \n",
        "                  mode='text', marker=dict(size=1), text=_text),\n",
        "      row=1, col=2)\n",
        "  else:\n",
        "    fig.add_trace(\n",
        "      go.Scatter(x=_2d[:, 0], y=_2d[:, 1], \n",
        "                mode='markers', marker=dict(size=5)), \n",
        "      row=1, col=1)\n",
        "    fig.add_trace(\n",
        "      go.Scatter3d(x=_3d[:, 0], y=_3d[:, 1], z=_3d[:, 2], \n",
        "                  mode='markers', marker=dict(size=1)),\n",
        "      row=1, col=2)\n",
        "  fig.update_layout(height=sz, width=sz*2, title_text=title)\n",
        "  fig.show()"
      ],
      "execution_count": null,
      "outputs": []
    },
    {
      "cell_type": "code",
      "metadata": {
        "id": "msXqvLBFjGnD",
        "colab_type": "code",
        "colab": {}
      },
      "source": [
        "X_pca = decomposition.TruncatedSVD(n_components=2).fit_transform(X)\n",
        "X_pca3d = decomposition.TruncatedSVD(n_components=3).fit_transform(X)\n",
        "_plot(X_pca, X_pca3d, 500, \"Computing PCA projection\", y)"
      ],
      "execution_count": null,
      "outputs": []
    },
    {
      "cell_type": "code",
      "metadata": {
        "id": "hf69P5BQkB67",
        "colab_type": "code",
        "colab": {}
      },
      "source": [
        "X_iso = manifold.Isomap(n_neighbors=30, n_components=2).fit_transform(X)\n",
        "X_iso3d = manifold.Isomap(n_neighbors=30, n_components=3).fit_transform(X)\n",
        "_plot(X_iso, X_iso3d, 500, \"Computing Isomap embedding\", y)"
      ],
      "execution_count": null,
      "outputs": []
    },
    {
      "cell_type": "code",
      "metadata": {
        "id": "yz8o97DQkmcP",
        "colab_type": "code",
        "colab": {}
      },
      "source": [
        "methods = [\"standard\", \"modified\"]#, \"hessian\", \"ltsa\"]\n",
        "dim = [2, 3]\n",
        "for m in methods:\n",
        "  X_lle = []\n",
        "  for d in dim:\n",
        "    clf = manifold.LocallyLinearEmbedding(n_neighbors=30, n_components=d, method=m)\n",
        "    X_lle.append(clf.fit_transform(X))\n",
        "  _plot(X_lle[0], X_lle[1], 500, \"Computing LLE embedding (\" + m + \")\", y)"
      ],
      "execution_count": null,
      "outputs": []
    },
    {
      "cell_type": "code",
      "metadata": {
        "id": "gunMB94WldsU",
        "colab_type": "code",
        "colab": {}
      },
      "source": [
        "embedder = manifold.SpectralEmbedding(n_components=2, random_state=0, eigen_solver=\"arpack\")\n",
        "embedder3d = manifold.SpectralEmbedding(n_components=3, random_state=0, eigen_solver=\"arpack\")\n",
        "X_se = embedder.fit_transform(X)\n",
        "X_se3d = embedder3d.fit_transform(X)\n",
        "_plot(X_se, X_se3d, 500, \"Computing Spectral embedding\", y)"
      ],
      "execution_count": null,
      "outputs": []
    },
    {
      "cell_type": "code",
      "metadata": {
        "id": "ZeLreqaEloEO",
        "colab_type": "code",
        "colab": {}
      },
      "source": [
        "clf = manifold.MDS(n_components=2, n_init=1, max_iter=100)\n",
        "clf3d = manifold.MDS(n_components=3, n_init=1, max_iter=100)\n",
        "X_mds = clf.fit_transform(X)\n",
        "X_mds3d = clf3d.fit_transform(X)\n",
        "_plot(X_mds, X_mds3d, 500, \"Computing MDS embedding\", y)"
      ],
      "execution_count": null,
      "outputs": []
    },
    {
      "cell_type": "code",
      "metadata": {
        "id": "dZPXba0OlwMD",
        "colab_type": "code",
        "colab": {}
      },
      "source": [
        "tsne = manifold.TSNE(n_components=2, init='pca', random_state=0)\n",
        "tsne3d = manifold.TSNE(n_components=3, init='pca', random_state=0)\n",
        "X_tsne = tsne.fit_transform(X)\n",
        "X_tsne3d = tsne3d.fit_transform(X)\n",
        "_plot(X_tsne, X_tsne3d, 500, \"Computing t-SNE embedding\", y)"
      ],
      "execution_count": null,
      "outputs": []
    },
    {
      "cell_type": "code",
      "metadata": {
        "id": "RN4Hvyfgl1g8",
        "colab_type": "code",
        "colab": {}
      },
      "source": [
        "hasher = ensemble.RandomTreesEmbedding(n_estimators=200, random_state=0, max_depth=5)\n",
        "X_transformed = hasher.fit_transform(X)\n",
        "pca = decomposition.TruncatedSVD(n_components=2)\n",
        "X_reduced = pca.fit_transform(X_transformed)\n",
        "pca3d = decomposition.TruncatedSVD(n_components=3)\n",
        "X_reduced3d = pca3d.fit_transform(X_transformed)\n",
        "_plot(X_reduced, X_reduced3d, 500, \"Computing Totally Random Trees embedding\", y)"
      ],
      "execution_count": null,
      "outputs": []
    },
    {
      "cell_type": "markdown",
      "metadata": {
        "id": "gdPwsQ7we1Fk",
        "colab_type": "text"
      },
      "source": [
        "## SVM"
      ]
    },
    {
      "cell_type": "code",
      "metadata": {
        "id": "54IOth3FFMG3",
        "colab_type": "code",
        "colab": {}
      },
      "source": [
        "if label == True:\n",
        "  X_train, X_test, y_train, y_test = train_test_split(\n",
        "      X, y, test_size=0.3, random_state=None)\n",
        "\n",
        "  model = SVC(kernel='linear', random_state=None)\n",
        "  model.fit(X_train, y_train)\n",
        "\n",
        "  pred_train = model.predict(X_train)\n",
        "  accuracy_train = accuracy_score(y_train, pred_train)\n",
        "\n",
        "  pred_test = model.predict(X_test)\n",
        "  accuracy_test = accuracy_score(y_test, pred_test)\n",
        "\n",
        "  print('accuracy (training data, test data): %.2f, %.2f' % \n",
        "        (accuracy_train, accuracy_test))"
      ],
      "execution_count": null,
      "outputs": []
    }
  ]
}