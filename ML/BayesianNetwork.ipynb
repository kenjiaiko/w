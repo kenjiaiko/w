{
 "cells": [
  {
   "cell_type": "code",
   "execution_count": null,
   "metadata": {
    "colab": {
     "base_uri": "https://localhost:8080/",
     "height": 224
    },
    "colab_type": "code",
    "id": "Ol872QYxo5Yj",
    "outputId": "56e065c1-7a99-4efa-d045-664687237e64"
   },
   "outputs": [],
   "source": [
    "!pip install pomegranate\n",
    "!pip install pandas"
   ]
  },
  {
   "cell_type": "code",
   "execution_count": null,
   "metadata": {},
   "outputs": [],
   "source": [
    "!conda install -c anaconda graphviz python-graphviz -y"
   ]
  },
  {
   "cell_type": "code",
   "execution_count": null,
   "metadata": {},
   "outputs": [],
   "source": [
    "!pip install --install-option=\"--include-path=/srv/conda/envs/notebook/include\"  --install-option=\"--library-path=/srv/conda/envs/notebook/lib\" pygraphviz"
   ]
  },
  {
   "cell_type": "code",
   "execution_count": null,
   "metadata": {},
   "outputs": [],
   "source": [
    "!pip install matplotlib\n",
    "!pip install pillow"
   ]
  },
  {
   "cell_type": "code",
   "execution_count": null,
   "metadata": {},
   "outputs": [],
   "source": [
    "import pygraphviz\n",
    "import tempfile\n",
    "import matplotlib.pyplot as plt\n",
    "import matplotlib.image"
   ]
  },
  {
   "cell_type": "code",
   "execution_count": null,
   "metadata": {},
   "outputs": [],
   "source": [
    "def plot(nw):\n",
    "    G = pygraphviz.AGraph(directed=True)\n",
    "    for state in nw.states:\n",
    "        G.add_node(state.name, color='red')\n",
    "    for parent, child in nw.edges:\n",
    "        G.add_edge(parent.name, child.name)\n",
    "    with tempfile.NamedTemporaryFile() as tf:\n",
    "        G.draw(tf.name, format='png', prog='dot')\n",
    "        img = matplotlib.image.imread(tf.name)\n",
    "        plt.imshow(img)\n",
    "        plt.axis('off')"
   ]
  },
  {
   "cell_type": "markdown",
   "metadata": {
    "colab_type": "text",
    "id": "fpWjpjjppJux"
   },
   "source": [
    "## Bayesian Network"
   ]
  },
  {
   "cell_type": "code",
   "execution_count": null,
   "metadata": {
    "colab": {},
    "colab_type": "code",
    "id": "woAB-BtBwtWV"
   },
   "outputs": [],
   "source": [
    "from pomegranate import *"
   ]
  },
  {
   "cell_type": "code",
   "execution_count": null,
   "metadata": {
    "colab": {},
    "colab_type": "code",
    "id": "mdWjm2t8nwOO"
   },
   "outputs": [],
   "source": [
    "attack = DiscreteDistribution( { True: 0.01, False: 0.99 } )\n",
    "_attack_node = State(attack, name=\"attack\")"
   ]
  },
  {
   "cell_type": "code",
   "execution_count": null,
   "metadata": {
    "colab": {},
    "colab_type": "code",
    "id": "F-hD2UqRoVCY"
   },
   "outputs": [],
   "source": [
    "AV = ConditionalProbabilityTable([\n",
    "    [ True, True,  0.9 ],  #TruePositive\n",
    "    [ True, False, 0.1 ],  #TrueNegative\n",
    "    [ False, True, 0.005 ],#FalsePositive\n",
    "    [ False, False,0.995 ] #FalseNegative\n",
    "    ], [attack])\n",
    "_AV_node = State(AV, name=\"AV\")"
   ]
  },
  {
   "cell_type": "code",
   "execution_count": null,
   "metadata": {
    "colab": {},
    "colab_type": "code",
    "id": "Qsaj087to54y"
   },
   "outputs": [],
   "source": [
    "FW = ConditionalProbabilityTable([\n",
    "    [ True, True,  0.7 ],   #TruePositive\n",
    "    [ True, False, 0.3 ],   #TrueNegative\n",
    "    [ False, True, 0.0001 ],#FalsePositive\n",
    "    [ False, False,0.9999 ] #FalseNegative\n",
    "    ], [attack])\n",
    "_FW_node = State(FW, name=\"FW\")"
   ]
  },
  {
   "cell_type": "code",
   "execution_count": null,
   "metadata": {
    "colab": {},
    "colab_type": "code",
    "id": "ptLhH4eHpj-N"
   },
   "outputs": [],
   "source": [
    "#Building the Bayesian Network\n",
    "network = BayesianNetwork(\"Security Alert With Bayesian Networks\")\n",
    "network.add_nodes(_attack_node, _AV_node, _FW_node)\n",
    "network.add_edge(_attack_node, _AV_node)\n",
    "network.add_edge(_attack_node, _FW_node)\n",
    "network.bake()"
   ]
  },
  {
   "cell_type": "code",
   "execution_count": null,
   "metadata": {},
   "outputs": [],
   "source": [
    "#network.plot()\n",
    "plot(network)"
   ]
  },
  {
   "cell_type": "code",
   "execution_count": null,
   "metadata": {
    "colab": {
     "base_uri": "https://localhost:8080/",
     "height": 255
    },
    "colab_type": "code",
    "id": "Y1s49C2QvAOg",
    "outputId": "e771e9ae-05a2-472b-b48b-d0f10624754a"
   },
   "outputs": [],
   "source": [
    "beliefs = network.predict_proba({ 'FW':True, 'AV':True })\n",
    "for state, belief in zip(network.states, beliefs):\n",
    "    print(state.name, belief)"
   ]
  },
  {
   "cell_type": "code",
   "execution_count": null,
   "metadata": {
    "colab": {
     "base_uri": "https://localhost:8080/",
     "height": 255
    },
    "colab_type": "code",
    "id": "Q4fhhLn3bCOD",
    "outputId": "45f4850f-7051-4b03-981e-bfe8e18630ca"
   },
   "outputs": [],
   "source": [
    "beliefs = network.predict_proba({ 'FW':False, 'AV':False })\n",
    "for state, belief in zip(network.states, beliefs):\n",
    "    print(state.name, belief)"
   ]
  },
  {
   "cell_type": "markdown",
   "metadata": {
    "colab_type": "text",
    "id": "no9TPr5Qkh8F"
   },
   "source": [
    "## Multilayer"
   ]
  },
  {
   "cell_type": "code",
   "execution_count": null,
   "metadata": {
    "colab": {},
    "colab_type": "code",
    "id": "CsKFoWWVTxuw"
   },
   "outputs": [],
   "source": [
    "AVt = ConditionalProbabilityTable([\n",
    "    [ True, True,  1.0 ],\n",
    "    [ True, False, 0.0 ],\n",
    "    [ False,True,  0.0 ],\n",
    "    [ False,False, 1.0 ]\n",
    "    ], [attack])\n",
    "_AVt_node = State(AVt, name=\"AVt\")"
   ]
  },
  {
   "cell_type": "code",
   "execution_count": null,
   "metadata": {
    "colab": {},
    "colab_type": "code",
    "id": "RClxC-9lUuDh"
   },
   "outputs": [],
   "source": [
    "AV = ConditionalProbabilityTable([\n",
    "    [ True, True,  0.9 ],  #TruePositive\n",
    "    [ True, False, 0.1 ],  #TrueNegative\n",
    "    [ False, True, 0.005 ],#FalsePositive\n",
    "    [ False, False,0.995 ] #FalseNegative\n",
    "    ], [AVt])\n",
    "_AV_node = State(AV, name=\"AV\")"
   ]
  },
  {
   "cell_type": "code",
   "execution_count": null,
   "metadata": {
    "colab": {},
    "colab_type": "code",
    "id": "Y-J0pspzU-10"
   },
   "outputs": [],
   "source": [
    "WL = ConditionalProbabilityTable([\n",
    "    [ True, True,  0.1 ],\n",
    "    [ True, False, 0.9 ],\n",
    "    [ False, True, 0.9 ],\n",
    "    [ False, False,0.1 ]\n",
    "    ], [AVt])\n",
    "_WL_node = State(WL, name=\"WL\")"
   ]
  },
  {
   "cell_type": "code",
   "execution_count": null,
   "metadata": {
    "colab": {},
    "colab_type": "code",
    "id": "aCDZfEUbUG5K"
   },
   "outputs": [],
   "source": [
    "#Building the Bayesian Network\n",
    "network = BayesianNetwork(\"Security Alert With Bayesian Networks\")\n",
    "network.add_nodes(_attack_node, _AVt_node, _AV_node, _WL_node, _FW_node)\n",
    "network.add_edge(_attack_node, _AVt_node)\n",
    "network.add_edge(_AVt_node, _AV_node)\n",
    "network.add_edge(_AVt_node, _WL_node)\n",
    "network.add_edge(_attack_node, _FW_node)\n",
    "network.bake()"
   ]
  },
  {
   "cell_type": "code",
   "execution_count": null,
   "metadata": {},
   "outputs": [],
   "source": [
    "#network.plot()\n",
    "plot(network)"
   ]
  },
  {
   "cell_type": "code",
   "execution_count": null,
   "metadata": {
    "colab": {
     "base_uri": "https://localhost:8080/",
     "height": 476
    },
    "colab_type": "code",
    "id": "IAFNCvZgUWMj",
    "outputId": "b83fe85f-ba61-48be-f743-ae219630118d"
   },
   "outputs": [],
   "source": [
    "beliefs = network.predict_proba({ 'FW':False, 'AV':True, 'WL':True })\n",
    "for state, belief in zip(network.states, beliefs):\n",
    "    print(state.name, belief)"
   ]
  },
  {
   "cell_type": "markdown",
   "metadata": {},
   "source": [
    "## XSS"
   ]
  },
  {
   "cell_type": "code",
   "execution_count": null,
   "metadata": {
    "colab": {},
    "colab_type": "code",
    "id": "EZlbfwISp-8z"
   },
   "outputs": [],
   "source": [
    "import pandas as pd\n",
    "# Ref: https://www.kaggle.com/syedsaqlainhussain/cross-site-scripting-xss-dataset-for-deep-learning\n",
    "data = pd.read_csv(\"XSS_dataset.csv\")\n",
    "data.head()"
   ]
  },
  {
   "cell_type": "code",
   "execution_count": null,
   "metadata": {
    "colab": {
     "base_uri": "https://localhost:8080/",
     "height": 34
    },
    "colab_type": "code",
    "id": "cYrl0OWh2u8Z",
    "outputId": "5f9b4e8b-0512-4bbd-ec3f-5ac12bb96930"
   },
   "outputs": [],
   "source": [
    "data.query(\"Label == 1\").shape[0], data.shape[0]"
   ]
  },
  {
   "cell_type": "code",
   "execution_count": null,
   "metadata": {},
   "outputs": [],
   "source": [
    "xss_datasets = []\n",
    "features = [\"alert\", \"script\", \"span\", \"mouseover\", \"href\", \"http\", \"document\"]\n",
    "for idx, row in data.iterrows():\n",
    "    s, l = row[1], row[2]\n",
    "    s = s.lower()\n",
    "    d = []\n",
    "    for fe in features:\n",
    "        d.append(fe if s.find(fe) != -1 else \"no_\" + fe)\n",
    "    xss_datasets.append(d)"
   ]
  },
  {
   "cell_type": "code",
   "execution_count": null,
   "metadata": {},
   "outputs": [],
   "source": [
    "network = BayesianNetwork(\"XSS Tree With Bayesian Networks\")\n",
    "network = network.from_samples(xss_datasets)"
   ]
  },
  {
   "cell_type": "code",
   "execution_count": null,
   "metadata": {},
   "outputs": [],
   "source": [
    "for i, fe in enumerate(features):\n",
    "    print(i, fe)\n",
    "#network.plot()\n",
    "plot(network)"
   ]
  },
  {
   "cell_type": "code",
   "execution_count": null,
   "metadata": {},
   "outputs": [],
   "source": [
    "beliefs = network.predict_proba({  })\n",
    "for state, belief in zip(network.states, beliefs):\n",
    "    print(state.name, belief)"
   ]
  },
  {
   "cell_type": "code",
   "execution_count": null,
   "metadata": {},
   "outputs": [],
   "source": [
    "beliefs = network.predict_proba({ '3':'mouseover', '0':'alert' })\n",
    "for state, belief in zip(network.states, beliefs):\n",
    "    print(state.name, belief)"
   ]
  }
 ],
 "metadata": {
  "colab": {
   "name": "Bayes.ipynb",
   "provenance": []
  },
  "kernelspec": {
   "display_name": "Python 3",
   "language": "python",
   "name": "python3"
  },
  "language_info": {
   "codemirror_mode": {
    "name": "ipython",
    "version": 3
   },
   "file_extension": ".py",
   "mimetype": "text/x-python",
   "name": "python",
   "nbconvert_exporter": "python",
   "pygments_lexer": "ipython3",
   "version": "3.7.3"
  }
 },
 "nbformat": 4,
 "nbformat_minor": 1
}
