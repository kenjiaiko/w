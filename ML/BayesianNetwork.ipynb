{
 "cells": [
  {
   "cell_type": "code",
   "execution_count": 1,
   "metadata": {
    "colab": {
     "base_uri": "https://localhost:8080/",
     "height": 224
    },
    "colab_type": "code",
    "id": "Ol872QYxo5Yj",
    "outputId": "56e065c1-7a99-4efa-d045-664687237e64"
   },
   "outputs": [
    {
     "name": "stdout",
     "output_type": "stream",
     "text": [
      "Requirement already satisfied: pomegranate in /usr/local/lib/python3.7/site-packages (0.13.4)\n",
      "Requirement already satisfied: numpy>=1.8.0 in /usr/local/lib/python3.7/site-packages (from pomegranate) (1.18.1)\n",
      "Requirement already satisfied: pyyaml in /usr/local/lib/python3.7/site-packages (from pomegranate) (5.3)\n",
      "Requirement already satisfied: scipy>=0.17.0 in /usr/local/lib/python3.7/site-packages (from pomegranate) (1.4.1)\n",
      "Requirement already satisfied: joblib>=0.9.0b4 in /usr/local/lib/python3.7/site-packages (from pomegranate) (0.14.1)\n",
      "Requirement already satisfied: networkx>=2.0 in /usr/local/lib/python3.7/site-packages (from pomegranate) (2.4)\n",
      "Requirement already satisfied: decorator>=4.3.0 in /usr/local/lib/python3.7/site-packages (from networkx>=2.0->pomegranate) (4.4.2)\n",
      "\u001b[33mWARNING: You are using pip version 20.0.2; however, version 20.1.1 is available.\n",
      "You should consider upgrading via the '/usr/local/bin/python3.7 -m pip install --upgrade pip' command.\u001b[0m\n"
     ]
    }
   ],
   "source": [
    "!pip install pomegranate"
   ]
  },
  {
   "cell_type": "code",
   "execution_count": null,
   "metadata": {},
   "outputs": [],
   "source": [
    "!conda install -c anaconda graphviz python-graphviz -y"
   ]
  },
  {
   "cell_type": "code",
   "execution_count": null,
   "metadata": {},
   "outputs": [],
   "source": [
    "!pip install --install-option=\"--include-path=/srv/conda/envs/notebook/include\"  --install-option=\"--library-path=/srv/conda/envs/notebook/lib\" pygraphviz"
   ]
  },
  {
   "cell_type": "code",
   "execution_count": null,
   "metadata": {},
   "outputs": [],
   "source": [
    "!pip install matplotlib\n",
    "!pip install pillow"
   ]
  },
  {
   "cell_type": "code",
   "execution_count": null,
   "metadata": {},
   "outputs": [],
   "source": [
    "import pygraphviz\n",
    "import tempfile\n",
    "import matplotlib.pyplot as plt\n",
    "import matplotlib.image"
   ]
  },
  {
   "cell_type": "code",
   "execution_count": null,
   "metadata": {},
   "outputs": [],
   "source": [
    "def plot(nw):\n",
    "    G = pygraphviz.AGraph(directed=True)\n",
    "    for state in nw.states:\n",
    "        G.add_node(state.name, color='red')\n",
    "    for parent, child in nw.edges:\n",
    "        G.add_edge(parent.name, child.name)\n",
    "    with tempfile.NamedTemporaryFile() as tf:\n",
    "        G.draw(tf.name, format='png', prog='dot')\n",
    "        img = matplotlib.image.imread(tf.name)\n",
    "        plt.imshow(img)\n",
    "        plt.axis('off')"
   ]
  },
  {
   "cell_type": "markdown",
   "metadata": {
    "colab_type": "text",
    "id": "fpWjpjjppJux"
   },
   "source": [
    "## Bayesian Network"
   ]
  },
  {
   "cell_type": "code",
   "execution_count": 2,
   "metadata": {
    "colab": {},
    "colab_type": "code",
    "id": "woAB-BtBwtWV"
   },
   "outputs": [],
   "source": [
    "from pomegranate import *"
   ]
  },
  {
   "cell_type": "code",
   "execution_count": 3,
   "metadata": {
    "colab": {},
    "colab_type": "code",
    "id": "mdWjm2t8nwOO"
   },
   "outputs": [],
   "source": [
    "attack = DiscreteDistribution( { True: 0.01, False: 0.99 } )\n",
    "_attack_node = State(attack, name=\"attack\")"
   ]
  },
  {
   "cell_type": "code",
   "execution_count": 4,
   "metadata": {
    "colab": {},
    "colab_type": "code",
    "id": "F-hD2UqRoVCY"
   },
   "outputs": [],
   "source": [
    "AV = ConditionalProbabilityTable([\n",
    "    [ True, True,  0.9 ],  #TruePositive\n",
    "    [ True, False, 0.1 ],  #TrueNegative\n",
    "    [ False, True, 0.005 ],#FalsePositive\n",
    "    [ False, False,0.995 ] #FalseNegative\n",
    "    ], [attack])\n",
    "_AV_node = State(AV, name=\"AV\")"
   ]
  },
  {
   "cell_type": "code",
   "execution_count": 5,
   "metadata": {
    "colab": {},
    "colab_type": "code",
    "id": "Qsaj087to54y"
   },
   "outputs": [],
   "source": [
    "FW = ConditionalProbabilityTable([\n",
    "    [ True, True,  0.7 ],   #TruePositive\n",
    "    [ True, False, 0.3 ],   #TrueNegative\n",
    "    [ False, True, 0.0001 ],#FalsePositive\n",
    "    [ False, False,0.9999 ] #FalseNegative\n",
    "    ], [attack])\n",
    "_FW_node = State(FW, name=\"FW\")"
   ]
  },
  {
   "cell_type": "code",
   "execution_count": 6,
   "metadata": {
    "colab": {},
    "colab_type": "code",
    "id": "ptLhH4eHpj-N"
   },
   "outputs": [],
   "source": [
    "#Building the Bayesian Network\n",
    "network = BayesianNetwork(\"Security Alert With Bayesian Networks\")\n",
    "network.add_nodes(_attack_node, _AV_node, _FW_node)\n",
    "network.add_edge(_attack_node, _AV_node)\n",
    "network.add_edge(_attack_node, _FW_node)\n",
    "network.bake()"
   ]
  },
  {
   "cell_type": "code",
   "execution_count": 7,
   "metadata": {},
   "outputs": [
    {
     "data": {
      "image/png": "[encoded data removed]",
      "text/plain": [
       "<Figure size 432x288 with 1 Axes>"
      ]
     },
     "metadata": {
      "needs_background": "light"
     },
     "output_type": "display_data"
    }
   ],
   "source": [
    "#network.plot()\n",
    "plot(network)"
   ]
  },
  {
   "cell_type": "code",
   "execution_count": 8,
   "metadata": {
    "colab": {
     "base_uri": "https://localhost:8080/",
     "height": 255
    },
    "colab_type": "code",
    "id": "Y1s49C2QvAOg",
    "outputId": "e771e9ae-05a2-472b-b48b-d0f10624754a"
   },
   "outputs": [
    {
     "name": "stdout",
     "output_type": "stream",
     "text": [
      "attack {\n",
      "    \"class\" :\"Distribution\",\n",
      "    \"dtype\" :\"bool\",\n",
      "    \"name\" :\"DiscreteDistribution\",\n",
      "    \"parameters\" :[\n",
      "        {\n",
      "            \"True\" :0.9999214347444128,\n",
      "            \"False\" :7.856525558718288e-05\n",
      "        }\n",
      "    ],\n",
      "    \"frozen\" :false\n",
      "}\n",
      "AV True\n",
      "FW True\n"
     ]
    }
   ],
   "source": [
    "beliefs = network.predict_proba({ 'FW':True, 'AV':True })\n",
    "for state, belief in zip(network.states, beliefs):\n",
    "    print(state.name, belief)"
   ]
  },
  {
   "cell_type": "code",
   "execution_count": 9,
   "metadata": {
    "colab": {
     "base_uri": "https://localhost:8080/",
     "height": 255
    },
    "colab_type": "code",
    "id": "Q4fhhLn3bCOD",
    "outputId": "45f4850f-7051-4b03-981e-bfe8e18630ca"
   },
   "outputs": [
    {
     "name": "stdout",
     "output_type": "stream",
     "text": [
      "attack {\n",
      "    \"class\" :\"Distribution\",\n",
      "    \"dtype\" :\"bool\",\n",
      "    \"name\" :\"DiscreteDistribution\",\n",
      "    \"parameters\" :[\n",
      "        {\n",
      "            \"True\" :0.0003044907838481176,\n",
      "            \"False\" :0.9996955092161519\n",
      "        }\n",
      "    ],\n",
      "    \"frozen\" :false\n",
      "}\n",
      "AV False\n",
      "FW False\n"
     ]
    }
   ],
   "source": [
    "beliefs = network.predict_proba({ 'FW':False, 'AV':False })\n",
    "for state, belief in zip(network.states, beliefs):\n",
    "    print(state.name, belief)"
   ]
  },
  {
   "cell_type": "markdown",
   "metadata": {
    "colab_type": "text",
    "id": "no9TPr5Qkh8F"
   },
   "source": [
    "## Multilayer"
   ]
  },
  {
   "cell_type": "code",
   "execution_count": 10,
   "metadata": {
    "colab": {},
    "colab_type": "code",
    "id": "CsKFoWWVTxuw"
   },
   "outputs": [],
   "source": [
    "AVt = ConditionalProbabilityTable([\n",
    "    [ True, True,  1.0 ],\n",
    "    [ True, False, 0.0 ],\n",
    "    [ False,True,  0.0 ],\n",
    "    [ False,False, 1.0 ]\n",
    "    ], [attack])\n",
    "_AVt_node = State(AVt, name=\"AVt\")"
   ]
  },
  {
   "cell_type": "code",
   "execution_count": 11,
   "metadata": {
    "colab": {},
    "colab_type": "code",
    "id": "RClxC-9lUuDh"
   },
   "outputs": [],
   "source": [
    "AV = ConditionalProbabilityTable([\n",
    "    [ True, True,  0.9 ],  #TruePositive\n",
    "    [ True, False, 0.1 ],  #TrueNegative\n",
    "    [ False, True, 0.005 ],#FalsePositive\n",
    "    [ False, False,0.995 ] #FalseNegative\n",
    "    ], [AVt])\n",
    "_AV_node = State(AV, name=\"AV\")"
   ]
  },
  {
   "cell_type": "code",
   "execution_count": 12,
   "metadata": {
    "colab": {},
    "colab_type": "code",
    "id": "Y-J0pspzU-10"
   },
   "outputs": [],
   "source": [
    "WL = ConditionalProbabilityTable([\n",
    "    [ True, True,  0.1 ],\n",
    "    [ True, False, 0.9 ],\n",
    "    [ False, True, 0.9 ],\n",
    "    [ False, False,0.1 ]\n",
    "    ], [AVt])\n",
    "_WL_node = State(WL, name=\"WL\")"
   ]
  },
  {
   "cell_type": "code",
   "execution_count": 13,
   "metadata": {
    "colab": {},
    "colab_type": "code",
    "id": "aCDZfEUbUG5K"
   },
   "outputs": [],
   "source": [
    "#Building the Bayesian Network\n",
    "network = BayesianNetwork(\"Security Alert With Bayesian Networks\")\n",
    "network.add_nodes(_attack_node, _AVt_node, _AV_node, _WL_node, _FW_node)\n",
    "network.add_edge(_attack_node, _AVt_node)\n",
    "network.add_edge(_AVt_node, _AV_node)\n",
    "network.add_edge(_AVt_node, _WL_node)\n",
    "network.add_edge(_attack_node, _FW_node)\n",
    "network.bake()"
   ]
  },
  {
   "cell_type": "code",
   "execution_count": 14,
   "metadata": {},
   "outputs": [
    {
     "data": {
      "image/png": "[encoded data removed]",
      "text/plain": [
       "<Figure size 432x288 with 1 Axes>"
      ]
     },
     "metadata": {
      "needs_background": "light"
     },
     "output_type": "display_data"
    }
   ],
   "source": [
    "#network.plot()\n",
    "plot(network)"
   ]
  },
  {
   "cell_type": "code",
   "execution_count": 15,
   "metadata": {
    "colab": {
     "base_uri": "https://localhost:8080/",
     "height": 476
    },
    "colab_type": "code",
    "id": "IAFNCvZgUWMj",
    "outputId": "b83fe85f-ba61-48be-f743-ae219630118d"
   },
   "outputs": [
    {
     "name": "stdout",
     "output_type": "stream",
     "text": [
      "attack {\n",
      "    \"class\" :\"Distribution\",\n",
      "    \"dtype\" :\"bool\",\n",
      "    \"name\" :\"DiscreteDistribution\",\n",
      "    \"parameters\" :[\n",
      "        {\n",
      "            \"True\" :0.05714824540599343,\n",
      "            \"False\" :0.9428517545940066\n",
      "        }\n",
      "    ],\n",
      "    \"frozen\" :false\n",
      "}\n",
      "AVt {\n",
      "    \"class\" :\"Distribution\",\n",
      "    \"dtype\" :\"bool\",\n",
      "    \"name\" :\"DiscreteDistribution\",\n",
      "    \"parameters\" :[\n",
      "        {\n",
      "            \"False\" :0.9428517545939963,\n",
      "            \"True\" :0.057148245406003655\n",
      "        }\n",
      "    ],\n",
      "    \"frozen\" :false\n",
      "}\n",
      "AV True\n",
      "WL True\n",
      "FW False\n"
     ]
    }
   ],
   "source": [
    "beliefs = network.predict_proba({ 'FW':False, 'AV':True, 'WL':True })\n",
    "for state, belief in zip(network.states, beliefs):\n",
    "    print(state.name, belief)"
   ]
  },
  {
   "cell_type": "markdown",
   "metadata": {},
   "source": [
    "## XSS"
   ]
  },
  {
   "cell_type": "code",
   "execution_count": 16,
   "metadata": {
    "colab": {},
    "colab_type": "code",
    "id": "EZlbfwISp-8z"
   },
   "outputs": [
    {
     "data": {
      "text/html": [
       "<div>\n",
       "<style scoped>\n",
       "    .dataframe tbody tr th:only-of-type {\n",
       "        vertical-align: middle;\n",
       "    }\n",
       "\n",
       "    .dataframe tbody tr th {\n",
       "        vertical-align: top;\n",
       "    }\n",
       "\n",
       "    .dataframe thead th {\n",
       "        text-align: right;\n",
       "    }\n",
       "</style>\n",
       "<table border=\"1\" class=\"dataframe\">\n",
       "  <thead>\n",
       "    <tr style=\"text-align: right;\">\n",
       "      <th></th>\n",
       "      <th>Unnamed: 0</th>\n",
       "      <th>Sentence</th>\n",
       "      <th>Label</th>\n",
       "    </tr>\n",
       "  </thead>\n",
       "  <tbody>\n",
       "    <tr>\n",
       "      <th>0</th>\n",
       "      <td>0</td>\n",
       "      <td>&lt;li&gt;&lt;a href=\"/wiki/File:Socrates.png\" class=\"i...</td>\n",
       "      <td>0</td>\n",
       "    </tr>\n",
       "    <tr>\n",
       "      <th>1</th>\n",
       "      <td>1</td>\n",
       "      <td>&lt;tt onmouseover=\"alert(1)\"&gt;test&lt;/tt&gt;</td>\n",
       "      <td>1</td>\n",
       "    </tr>\n",
       "    <tr>\n",
       "      <th>2</th>\n",
       "      <td>2</td>\n",
       "      <td>\\t &lt;/span&gt; &lt;span class=\"reference-text\"&gt;Steeri...</td>\n",
       "      <td>0</td>\n",
       "    </tr>\n",
       "    <tr>\n",
       "      <th>3</th>\n",
       "      <td>3</td>\n",
       "      <td>\\t &lt;/span&gt; &lt;span class=\"reference-text\"&gt;&lt;cite ...</td>\n",
       "      <td>0</td>\n",
       "    </tr>\n",
       "    <tr>\n",
       "      <th>4</th>\n",
       "      <td>4</td>\n",
       "      <td>\\t &lt;/span&gt;. &lt;a href=\"/wiki/Digital_object_iden...</td>\n",
       "      <td>0</td>\n",
       "    </tr>\n",
       "  </tbody>\n",
       "</table>\n",
       "</div>"
      ],
      "text/plain": [
       "   Unnamed: 0                                           Sentence  Label\n",
       "0           0  <li><a href=\"/wiki/File:Socrates.png\" class=\"i...      0\n",
       "1           1               <tt onmouseover=\"alert(1)\">test</tt>      1\n",
       "2           2  \\t </span> <span class=\"reference-text\">Steeri...      0\n",
       "3           3  \\t </span> <span class=\"reference-text\"><cite ...      0\n",
       "4           4  \\t </span>. <a href=\"/wiki/Digital_object_iden...      0"
      ]
     },
     "execution_count": 16,
     "metadata": {},
     "output_type": "execute_result"
    }
   ],
   "source": [
    "import pandas as pd\n",
    "# Ref: https://www.kaggle.com/syedsaqlainhussain/cross-site-scripting-xss-dataset-for-deep-learning\n",
    "data = pd.read_csv(\"XSS_dataset.csv\")\n",
    "data.head()"
   ]
  },
  {
   "cell_type": "code",
   "execution_count": 17,
   "metadata": {
    "colab": {
     "base_uri": "https://localhost:8080/",
     "height": 34
    },
    "colab_type": "code",
    "id": "cYrl0OWh2u8Z",
    "outputId": "5f9b4e8b-0512-4bbd-ec3f-5ac12bb96930"
   },
   "outputs": [
    {
     "data": {
      "text/plain": [
       "(7373, 13686)"
      ]
     },
     "execution_count": 17,
     "metadata": {},
     "output_type": "execute_result"
    }
   ],
   "source": [
    "data.query(\"Label == 1\").shape[0], data.shape[0]"
   ]
  },
  {
   "cell_type": "code",
   "execution_count": 18,
   "metadata": {},
   "outputs": [],
   "source": [
    "xss_datasets = []\n",
    "features = [\"alert\", \"script\", \"span\", \"mouseover\", \"href\", \"http\", \"document\"]\n",
    "for idx, row in data.iterrows():\n",
    "    s, l = row[1], row[2]\n",
    "    s = s.lower()\n",
    "    d = []\n",
    "    for fe in features:\n",
    "        d.append(fe if s.find(fe) != -1 else \"no_\" + fe)\n",
    "    xss_datasets.append(d)"
   ]
  },
  {
   "cell_type": "code",
   "execution_count": 19,
   "metadata": {},
   "outputs": [],
   "source": [
    "network = BayesianNetwork(\"XSS Tree With Bayesian Networks\")\n",
    "network = network.from_samples(xss_datasets)"
   ]
  },
  {
   "cell_type": "code",
   "execution_count": 20,
   "metadata": {},
   "outputs": [
    {
     "name": "stdout",
     "output_type": "stream",
     "text": [
      "0 alert\n",
      "1 script\n",
      "2 span\n",
      "3 mouseover\n",
      "4 href\n",
      "5 http\n",
      "6 document\n"
     ]
    },
    {
     "data": {
      "image/png": "[encoded data removed]",
      "text/plain": [
       "<Figure size 432x288 with 1 Axes>"
      ]
     },
     "metadata": {
      "needs_background": "light"
     },
     "output_type": "display_data"
    }
   ],
   "source": [
    "for i, fe in enumerate(features):\n",
    "    print(i, fe)\n",
    "#network.plot()\n",
    "plot(network)"
   ]
  },
  {
   "cell_type": "code",
   "execution_count": 21,
   "metadata": {},
   "outputs": [
    {
     "name": "stdout",
     "output_type": "stream",
     "text": [
      "0 {\n",
      "    \"class\" :\"Distribution\",\n",
      "    \"dtype\" :\"numpy.str_\",\n",
      "    \"name\" :\"DiscreteDistribution\",\n",
      "    \"parameters\" :[\n",
      "        {\n",
      "            \"no_alert\" :0.48320678212131846,\n",
      "            \"alert\" :0.5167932178786815\n",
      "        }\n",
      "    ],\n",
      "    \"frozen\" :false\n",
      "}\n",
      "1 {\n",
      "    \"class\" :\"Distribution\",\n",
      "    \"dtype\" :\"numpy.str_\",\n",
      "    \"name\" :\"DiscreteDistribution\",\n",
      "    \"parameters\" :[\n",
      "        {\n",
      "            \"no_script\" :0.9812947537629686,\n",
      "            \"script\" :0.018705246237031473\n",
      "        }\n",
      "    ],\n",
      "    \"frozen\" :false\n",
      "}\n",
      "2 {\n",
      "    \"class\" :\"Distribution\",\n",
      "    \"dtype\" :\"numpy.str_\",\n",
      "    \"name\" :\"DiscreteDistribution\",\n",
      "    \"parameters\" :[\n",
      "        {\n",
      "            \"span\" :0.2234274003640017,\n",
      "            \"no_span\" :0.7765725996359983\n",
      "        }\n",
      "    ],\n",
      "    \"frozen\" :false\n",
      "}\n",
      "3 {\n",
      "    \"class\" :\"Distribution\",\n",
      "    \"dtype\" :\"numpy.str_\",\n",
      "    \"name\" :\"DiscreteDistribution\",\n",
      "    \"parameters\" :[\n",
      "        {\n",
      "            \"mouseover\" :0.011033172585124141,\n",
      "            \"no_mouseover\" :0.9889668274148758\n",
      "        }\n",
      "    ],\n",
      "    \"frozen\" :false\n",
      "}\n",
      "4 {\n",
      "    \"class\" :\"Distribution\",\n",
      "    \"dtype\" :\"numpy.str_\",\n",
      "    \"name\" :\"DiscreteDistribution\",\n",
      "    \"parameters\" :[\n",
      "        {\n",
      "            \"no_href\" :0.7134153232523542,\n",
      "            \"href\" :0.28658467674764576\n",
      "        }\n",
      "    ],\n",
      "    \"frozen\" :false\n",
      "}\n",
      "5 {\n",
      "    \"class\" :\"Distribution\",\n",
      "    \"dtype\" :\"numpy.str_\",\n",
      "    \"name\" :\"DiscreteDistribution\",\n",
      "    \"parameters\" :[\n",
      "        {\n",
      "            \"no_http\" :0.9612742948998969,\n",
      "            \"http\" :0.038725705100103126\n",
      "        }\n",
      "    ],\n",
      "    \"frozen\" :false\n",
      "}\n",
      "6 {\n",
      "    \"class\" :\"Distribution\",\n",
      "    \"dtype\" :\"numpy.str_\",\n",
      "    \"name\" :\"DiscreteDistribution\",\n",
      "    \"parameters\" :[\n",
      "        {\n",
      "            \"document\" :0.0054069852403923,\n",
      "            \"no_document\" :0.9945930147596077\n",
      "        }\n",
      "    ],\n",
      "    \"frozen\" :false\n",
      "}\n"
     ]
    }
   ],
   "source": [
    "beliefs = network.predict_proba({  })\n",
    "for state, belief in zip(network.states, beliefs):\n",
    "    print(state.name, belief)"
   ]
  },
  {
   "cell_type": "code",
   "execution_count": 22,
   "metadata": {},
   "outputs": [
    {
     "name": "stdout",
     "output_type": "stream",
     "text": [
      "0 alert\n",
      "1 {\n",
      "    \"class\" :\"Distribution\",\n",
      "    \"dtype\" :\"numpy.str_\",\n",
      "    \"name\" :\"DiscreteDistribution\",\n",
      "    \"parameters\" :[\n",
      "        {\n",
      "            \"no_script\" :0.9819271998866937,\n",
      "            \"script\" :0.01807280011330617\n",
      "        }\n",
      "    ],\n",
      "    \"frozen\" :false\n",
      "}\n",
      "2 {\n",
      "    \"class\" :\"Distribution\",\n",
      "    \"dtype\" :\"numpy.str_\",\n",
      "    \"name\" :\"DiscreteDistribution\",\n",
      "    \"parameters\" :[\n",
      "        {\n",
      "            \"span\" :0.01659623409638092,\n",
      "            \"no_span\" :0.9834037659036191\n",
      "        }\n",
      "    ],\n",
      "    \"frozen\" :false\n",
      "}\n",
      "3 mouseover\n",
      "4 {\n",
      "    \"class\" :\"Distribution\",\n",
      "    \"dtype\" :\"numpy.str_\",\n",
      "    \"name\" :\"DiscreteDistribution\",\n",
      "    \"parameters\" :[\n",
      "        {\n",
      "            \"no_href\" :0.9888178370528234,\n",
      "            \"href\" :0.01118216294717661\n",
      "        }\n",
      "    ],\n",
      "    \"frozen\" :false\n",
      "}\n",
      "5 {\n",
      "    \"class\" :\"Distribution\",\n",
      "    \"dtype\" :\"numpy.str_\",\n",
      "    \"name\" :\"DiscreteDistribution\",\n",
      "    \"parameters\" :[\n",
      "        {\n",
      "            \"no_http\" :0.9800843880274941,\n",
      "            \"http\" :0.019915611972505794\n",
      "        }\n",
      "    ],\n",
      "    \"frozen\" :false\n",
      "}\n",
      "6 {\n",
      "    \"class\" :\"Distribution\",\n",
      "    \"dtype\" :\"numpy.str_\",\n",
      "    \"name\" :\"DiscreteDistribution\",\n",
      "    \"parameters\" :[\n",
      "        {\n",
      "            \"document\" :0.005372233343418217,\n",
      "            \"no_document\" :0.9946277666565818\n",
      "        }\n",
      "    ],\n",
      "    \"frozen\" :false\n",
      "}\n"
     ]
    }
   ],
   "source": [
    "beliefs = network.predict_proba({ '3':'mouseover', '0':'alert' })\n",
    "for state, belief in zip(network.states, beliefs):\n",
    "    print(state.name, belief)"
   ]
  }
 ],
 "metadata": {
  "colab": {
   "name": "Bayes.ipynb",
   "provenance": []
  },
  "kernelspec": {
   "display_name": "Python 3",
   "language": "python",
   "name": "python3"
  },
  "language_info": {
   "codemirror_mode": {
    "name": "ipython",
    "version": 3
   },
   "file_extension": ".py",
   "mimetype": "text/x-python",
   "name": "python",
   "nbconvert_exporter": "python",
   "pygments_lexer": "ipython3",
   "version": "3.7.3"
  }
 },
 "nbformat": 4,
 "nbformat_minor": 1
}
