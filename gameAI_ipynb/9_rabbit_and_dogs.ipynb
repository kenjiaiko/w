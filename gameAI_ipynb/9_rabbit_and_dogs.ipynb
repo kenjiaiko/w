{
 "cells": [
  {
   "cell_type": "markdown",
   "metadata": {},
   "source": [
    "# 9. rabbit and dogs"
   ]
  },
  {
   "cell_type": "code",
   "execution_count": null,
   "metadata": {},
   "outputs": [],
   "source": [
    "import copy"
   ]
  },
  {
   "cell_type": "code",
   "execution_count": null,
   "metadata": {},
   "outputs": [],
   "source": [
    "def direction():\n",
    "    p1 = []\n",
    "    p2 = [(1, 0), (0, 1), (-1, 0), (0, -1)]\n",
    "    p3 = [(1, 1), (1,-1), (-1, 1), (-1,-1)] + p2\n",
    "    m = [\n",
    "        [p1, p3, p2, p3, p1],\n",
    "        [p3, p2, p3, p2, p3],\n",
    "        [p1, p3, p2, p3, p1]\n",
    "    ]\n",
    "    return m"
   ]
  },
  {
   "cell_type": "code",
   "execution_count": null,
   "metadata": {},
   "outputs": [],
   "source": [
    "def get_moves(_pos):\n",
    "    r = None\n",
    "    m = direction()\n",
    "    if (_pos[\"turn\"] % 2) == 1: #dogs turn\n",
    "        dogs_list = []\n",
    "        for x, y in _pos[\"dogs\"]:\n",
    "            for ad_x, ad_y in m[y][x]:\n",
    "                if ad_x < 0: #dogs can't move to back\n",
    "                    continue\n",
    "                (new_x, new_y) = (x + ad_x, y + ad_y)\n",
    "                if new_x < 0 or len(m[0]) <= new_x or new_y < 0 or len(m) <= new_y:\n",
    "                    continue\n",
    "                v = m[new_y][new_x]\n",
    "                if v == []:\n",
    "                    continue\n",
    "                if (new_x, new_y) in _pos[\"dogs\"] + [_pos[\"rabbit\"]]:\n",
    "                    continue\n",
    "                new_dogs = copy.deepcopy(_pos[\"dogs\"])\n",
    "                new_dogs.remove((x, y))\n",
    "                new_dogs.append((new_x, new_y))\n",
    "                dogs_list.append(new_dogs)\n",
    "        r = dogs_list\n",
    "    else: #rabbit turn\n",
    "        rabbit_list = []\n",
    "        x, y = _pos[\"rabbit\"]\n",
    "        for ad_x, ad_y in m[y][x]:\n",
    "            (new_x, new_y) = (x + ad_x, y + ad_y)\n",
    "            if new_x < 0 or len(m[0]) <= new_x or new_y < 0 or len(m) <= new_y:\n",
    "                    continue\n",
    "            v = m[new_y][new_x]\n",
    "            if v == []:\n",
    "                continue\n",
    "            if (new_x, new_y) in _pos[\"dogs\"] + [_pos[\"rabbit\"]]:\n",
    "                continue\n",
    "            new_rabbit = (new_x, new_y)\n",
    "            rabbit_list.append(new_rabbit)\n",
    "        r = rabbit_list\n",
    "    return r"
   ]
  },
  {
   "cell_type": "code",
   "execution_count": null,
   "metadata": {},
   "outputs": [],
   "source": [
    "def next_turn(rabbit, dogs, turn):\n",
    "    _pos = {\n",
    "        \"turn\": turn + 1,\n",
    "        \"rabbit\": copy.deepcopy(rabbit),\n",
    "        \"dogs\": copy.deepcopy(dogs)\n",
    "    }\n",
    "    return _pos"
   ]
  },
  {
   "cell_type": "code",
   "execution_count": null,
   "metadata": {},
   "outputs": [],
   "source": [
    "def to_tuple(_pos):\n",
    "    return (_pos[\"turn\"], _pos[\"rabbit\"], tuple(sorted(_pos[\"dogs\"])))"
   ]
  },
  {
   "cell_type": "code",
   "execution_count": null,
   "metadata": {},
   "outputs": [],
   "source": [
    "def tree(root, _pos):\n",
    "    if 30 < _pos[\"turn\"]:\n",
    "        root[to_tuple(_pos)] = { \"gameset\": 2, \"next\": [] }\n",
    "        return 2 #rabbit win\n",
    "    if _pos[\"rabbit\"][0] <= min([ x for (x, y) in _pos[\"dogs\"] ]):\n",
    "        root[to_tuple(_pos)] = { \"gameset\": 2, \"next\": [] }\n",
    "        return 2 #rabbit win\n",
    "    is_dogs = True if (_pos[\"turn\"] % 2) == 1 else False\n",
    "    moves = get_moves(_pos)\n",
    "    if is_dogs == False and moves == []:\n",
    "        root[to_tuple(_pos)] = { \"gameset\": 1, \"next\": [] }\n",
    "        return 1 #dogs win\n",
    "    result = []\n",
    "    for candi in moves:\n",
    "        if is_dogs == True:\n",
    "            p = next_turn(_pos[\"rabbit\"], candi, _pos[\"turn\"])\n",
    "        else:\n",
    "            p = next_turn(candi, _pos[\"dogs\"], _pos[\"turn\"])\n",
    "        t = to_tuple(p)\n",
    "        try:\n",
    "            r = root[t][\"gameset\"]\n",
    "            if r != -1:\n",
    "                result.append((r, p))\n",
    "                continue\n",
    "        except:\n",
    "            pass\n",
    "        root.setdefault(t, { \"gameset\": -1, \"next\": [] })\n",
    "        r = tree(root, p)\n",
    "        result.append((r, p))\n",
    "    if is_dogs == True:\n",
    "        r = 1 if 0 < len([ w for w, p in result if w == 1 ]) else 2\n",
    "    else:\n",
    "        r = 2 if 0 < len([ w for w, p in result if w == 2 ]) else 1\n",
    "    root[to_tuple(_pos)] = { \"gameset\": r, \"next\": copy.deepcopy(result) }\n",
    "    return r"
   ]
  },
  {
   "cell_type": "code",
   "execution_count": null,
   "metadata": {},
   "outputs": [],
   "source": [
    "def main():\n",
    "    root = {}\n",
    "    rabbits = [ (2, 0), (3, 0), (1, 1), (2, 1), (3, 1), (4, 1), (2, 2), (3, 2) ]\n",
    "    for rabbit in rabbits:\n",
    "        _pos = next_turn(rabbit, [ (1, 0), (0, 1), (1, 2) ], 0)\n",
    "        tuple_pos = to_tuple(_pos)\n",
    "        root.setdefault(tuple_pos, { \"gameset\": -1, \"next\": [] })\n",
    "        r = tree(root, _pos)\n",
    "        root[tuple_pos][\"gameset\"] = r\n",
    "    return root"
   ]
  },
  {
   "cell_type": "code",
   "execution_count": null,
   "metadata": {},
   "outputs": [],
   "source": [
    "table = main()"
   ]
  },
  {
   "cell_type": "markdown",
   "metadata": {},
   "source": [
    "## Win/Lose rate"
   ]
  },
  {
   "cell_type": "code",
   "execution_count": null,
   "metadata": {},
   "outputs": [],
   "source": [
    "counter = {}\n",
    "for k in table.keys():\n",
    "    name = \"dogs\" if 1 == table[k][\"gameset\"] else \"rabbit\"\n",
    "    counter.setdefault(name, 0)\n",
    "    counter[name] += 1\n",
    "print(counter)"
   ]
  },
  {
   "cell_type": "markdown",
   "metadata": {},
   "source": [
    "## Results from each initial position"
   ]
  },
  {
   "cell_type": "code",
   "execution_count": null,
   "metadata": {},
   "outputs": [],
   "source": [
    "rabbits = [ (2, 0), (3, 0), (1, 1), (2, 1), (3, 1), (4, 1), (2, 2), (3, 2) ]\n",
    "for rabbit in rabbits:\n",
    "    _pos = next_turn(rabbit, [ (1, 0), (0, 1), (1, 2) ], 0)\n",
    "    tuple_pos = to_tuple(_pos)\n",
    "    name = \"dogs\" if 1 == table[tuple_pos][\"gameset\"] else \"rabbit\"\n",
    "    print(str(rabbit) + \": \" + name + \" win\")"
   ]
  },
  {
   "cell_type": "markdown",
   "metadata": {},
   "source": [
    "## Print the best move"
   ]
  },
  {
   "cell_type": "code",
   "execution_count": null,
   "metadata": {},
   "outputs": [],
   "source": [
    "def print_pos(_pos, gameset):\n",
    "    _map = [\n",
    "        [-1, 0, 0, 0, -1],\n",
    "        [ 0, 0, 0, 0,  0],\n",
    "        [-1, 0, 0, 0, -1]\n",
    "    ]\n",
    "    if gameset == 1:\n",
    "        print(\"win: dogs \" + \"(turn.\" + str(_pos[\"turn\"]) + \")\")\n",
    "    else:\n",
    "        print(\"win: rabbit \" + \"(turn.\" + str(_pos[\"turn\"]) + \")\")\n",
    "    rx, ry = _pos[\"rabbit\"]\n",
    "    _map[ry][rx] = 2 #rabbit\n",
    "    for dx, dy in _pos[\"dogs\"]:\n",
    "        _map[dy][dx] = 1 #dogs\n",
    "    for l in _map:\n",
    "        line = \"\"\n",
    "        for v in l:\n",
    "            if v == -1:\n",
    "                line += \"-\"\n",
    "            if v == 0:\n",
    "                line += \"*\"\n",
    "            if v == 1:\n",
    "                line += \"D\"\n",
    "            if v == 2:\n",
    "                line += \"R\"\n",
    "        print(line)"
   ]
  },
  {
   "cell_type": "code",
   "execution_count": null,
   "metadata": {},
   "outputs": [],
   "source": [
    "turn, rabbit, dogs = (5, (3, 1), [ (0, 1), (2, 1), (2, 2) ])\n",
    "_pos = next_turn(rabbit, dogs, turn-1)\n",
    "print_pos(_pos, table[to_tuple(_pos)][\"gameset\"])\n",
    "print()\n",
    "print(\"-------------------\")\n",
    "for result, _p in table[to_tuple(_pos)][\"next\"]:\n",
    "    print()\n",
    "    print_pos(_p, result)"
   ]
  }
 ],
 "metadata": {
  "kernelspec": {
   "display_name": "Python 3",
   "language": "python",
   "name": "python3"
  },
  "language_info": {
   "codemirror_mode": {
    "name": "ipython",
    "version": 3
   },
   "file_extension": ".py",
   "mimetype": "text/x-python",
   "name": "python",
   "nbconvert_exporter": "python",
   "pygments_lexer": "ipython3",
   "version": "3.7.3"
  }
 },
 "nbformat": 4,
 "nbformat_minor": 4
}
